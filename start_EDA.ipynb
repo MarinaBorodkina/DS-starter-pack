{
 "cells": [
  {
   "cell_type": "code",
   "execution_count": 1,
   "metadata": {
    "ExecuteTime": {
     "end_time": "2021-08-20T12:42:53.751112Z",
     "start_time": "2021-08-20T12:42:53.742528Z"
    }
   },
   "outputs": [
    {
     "data": {
      "text/plain": [
       "'\\nEDA Starter pack\\n'"
      ]
     },
     "execution_count": 1,
     "metadata": {},
     "output_type": "execute_result"
    }
   ],
   "source": [
    "'''\n",
    "EDA Starter pack\n",
    "'''"
   ]
  },
  {
   "cell_type": "code",
   "execution_count": 2,
   "metadata": {
    "ExecuteTime": {
     "end_time": "2021-08-20T12:42:54.412593Z",
     "start_time": "2021-08-20T12:42:53.753279Z"
    }
   },
   "outputs": [],
   "source": [
    "import numpy as np\n",
    "import pandas as pd\n",
    "\n",
    "from scipy.stats import pearsonr\n",
    "\n",
    "# Visualiazation\n",
    "import seaborn as sns\n",
    "import matplotlib.pyplot as plt\n",
    "\n",
    "# Import and suppress warnings\n",
    "import warnings\n",
    "warnings.filterwarnings('ignore')\n",
    "\n",
    "path_data = 'input_files/ASHRAE/'\n",
    "path_train = path_data + 'train.csv'\n",
    "path_test = path_data + 'test.csv'"
   ]
  },
  {
   "cell_type": "code",
   "execution_count": 3,
   "metadata": {
    "ExecuteTime": {
     "end_time": "2021-08-20T12:42:54.420816Z",
     "start_time": "2021-08-20T12:42:54.414470Z"
    }
   },
   "outputs": [],
   "source": [
    "def column_visualizatin(df_, col_, target_, koef_, with_target_=False):\n",
    "\n",
    "    fig, ax = plt.subplots()\n",
    "    ax.hist(df_[col_], color='g', alpha=0.5, normed=True, label=col_)\n",
    "\n",
    "    if with_target_:\n",
    "        df_grouped_ = df_[[col_, target_]].groupby([col_]).mean().reset_index()\n",
    "        df_grouped_[target_] = df_grouped_[target_].astype('float') / koef_\n",
    "        ax.plot(df_grouped_[col_],\n",
    "                df_grouped_[target_],\n",
    "                color='r',\n",
    "                label=target_)\n",
    "\n",
    "    ax.set(title=col_)\n",
    "    ax.legend(loc='best')\n",
    "    plt.show()\n",
    "\n",
    "\n",
    "def share_of_missing_per_column(df_):\n",
    "    ''' Share of missing values per column '''\n",
    "\n",
    "    data = []\n",
    "    for col in df_.columns:\n",
    "        if (df_[col].isnull().sum() > 0):\n",
    "            data.append([\n",
    "                col, '{}%'.format(\n",
    "                    round(100 * df_[col].isnull().sum() / df_[col].shape[0],\n",
    "                          2)), df_[col].isnull().sum()\n",
    "            ])\n",
    "\n",
    "    if (len(data) == 0):\n",
    "        print('No missing data')\n",
    "    else:\n",
    "        return pd.DataFrame.from_records(\n",
    "            data, columns=['Column', 'Missing_share',\n",
    "                           'Missing_amount']).sort_values(by=['Missing_share'],\n",
    "                                                          ascending=False)"
   ]
  },
  {
   "cell_type": "markdown",
   "metadata": {},
   "source": [
    "## Import\n",
    "read Train/Test sets "
   ]
  },
  {
   "cell_type": "code",
   "execution_count": 4,
   "metadata": {
    "ExecuteTime": {
     "end_time": "2021-08-20T12:43:26.159889Z",
     "start_time": "2021-08-20T12:42:54.422381Z"
    }
   },
   "outputs": [],
   "source": [
    "df_train = pd.read_csv(path_train)\n",
    "df_test = pd.read_csv(path_test)\n",
    "target = 'meter_reading'"
   ]
  },
  {
   "cell_type": "code",
   "execution_count": 5,
   "metadata": {
    "ExecuteTime": {
     "end_time": "2021-08-20T12:43:26.166032Z",
     "start_time": "2021-08-20T12:43:26.162738Z"
    }
   },
   "outputs": [],
   "source": [
    "target = 'meter_reading'"
   ]
  },
  {
   "cell_type": "markdown",
   "metadata": {},
   "source": [
    "## Overview\n",
    "simple information"
   ]
  },
  {
   "cell_type": "code",
   "execution_count": 6,
   "metadata": {
    "ExecuteTime": {
     "end_time": "2021-08-20T12:43:26.181771Z",
     "start_time": "2021-08-20T12:43:26.167725Z"
    }
   },
   "outputs": [
    {
     "name": "stdout",
     "output_type": "stream",
     "text": [
      "Train shape: (20216100, 4)\n"
     ]
    },
    {
     "data": {
      "text/html": [
       "<div>\n",
       "<style scoped>\n",
       "    .dataframe tbody tr th:only-of-type {\n",
       "        vertical-align: middle;\n",
       "    }\n",
       "\n",
       "    .dataframe tbody tr th {\n",
       "        vertical-align: top;\n",
       "    }\n",
       "\n",
       "    .dataframe thead th {\n",
       "        text-align: right;\n",
       "    }\n",
       "</style>\n",
       "<table border=\"1\" class=\"dataframe\">\n",
       "  <thead>\n",
       "    <tr style=\"text-align: right;\">\n",
       "      <th></th>\n",
       "      <th>building_id</th>\n",
       "      <th>meter</th>\n",
       "      <th>timestamp</th>\n",
       "      <th>meter_reading</th>\n",
       "    </tr>\n",
       "  </thead>\n",
       "  <tbody>\n",
       "    <tr>\n",
       "      <th>0</th>\n",
       "      <td>0</td>\n",
       "      <td>0</td>\n",
       "      <td>2016-01-01 00:00:00</td>\n",
       "      <td>0.0</td>\n",
       "    </tr>\n",
       "    <tr>\n",
       "      <th>1</th>\n",
       "      <td>1</td>\n",
       "      <td>0</td>\n",
       "      <td>2016-01-01 00:00:00</td>\n",
       "      <td>0.0</td>\n",
       "    </tr>\n",
       "  </tbody>\n",
       "</table>\n",
       "</div>"
      ],
      "text/plain": [
       "   building_id  meter            timestamp  meter_reading\n",
       "0            0      0  2016-01-01 00:00:00            0.0\n",
       "1            1      0  2016-01-01 00:00:00            0.0"
      ]
     },
     "execution_count": 6,
     "metadata": {},
     "output_type": "execute_result"
    }
   ],
   "source": [
    "print('Train shape:', df_train.shape)\n",
    "df_train.head(2)"
   ]
  },
  {
   "cell_type": "code",
   "execution_count": 7,
   "metadata": {
    "ExecuteTime": {
     "end_time": "2021-08-20T12:43:26.190131Z",
     "start_time": "2021-08-20T12:43:26.183289Z"
    }
   },
   "outputs": [
    {
     "name": "stdout",
     "output_type": "stream",
     "text": [
      "Test shape: (41697600, 4)\n"
     ]
    },
    {
     "data": {
      "text/html": [
       "<div>\n",
       "<style scoped>\n",
       "    .dataframe tbody tr th:only-of-type {\n",
       "        vertical-align: middle;\n",
       "    }\n",
       "\n",
       "    .dataframe tbody tr th {\n",
       "        vertical-align: top;\n",
       "    }\n",
       "\n",
       "    .dataframe thead th {\n",
       "        text-align: right;\n",
       "    }\n",
       "</style>\n",
       "<table border=\"1\" class=\"dataframe\">\n",
       "  <thead>\n",
       "    <tr style=\"text-align: right;\">\n",
       "      <th></th>\n",
       "      <th>row_id</th>\n",
       "      <th>building_id</th>\n",
       "      <th>meter</th>\n",
       "      <th>timestamp</th>\n",
       "    </tr>\n",
       "  </thead>\n",
       "  <tbody>\n",
       "    <tr>\n",
       "      <th>0</th>\n",
       "      <td>0</td>\n",
       "      <td>0</td>\n",
       "      <td>0</td>\n",
       "      <td>2017-01-01 00:00:00</td>\n",
       "    </tr>\n",
       "    <tr>\n",
       "      <th>1</th>\n",
       "      <td>1</td>\n",
       "      <td>1</td>\n",
       "      <td>0</td>\n",
       "      <td>2017-01-01 00:00:00</td>\n",
       "    </tr>\n",
       "  </tbody>\n",
       "</table>\n",
       "</div>"
      ],
      "text/plain": [
       "   row_id  building_id  meter            timestamp\n",
       "0       0            0      0  2017-01-01 00:00:00\n",
       "1       1            1      0  2017-01-01 00:00:00"
      ]
     },
     "execution_count": 7,
     "metadata": {},
     "output_type": "execute_result"
    }
   ],
   "source": [
    "print('Test shape:', df_test.shape)\n",
    "df_test.head(2)"
   ]
  },
  {
   "cell_type": "markdown",
   "metadata": {},
   "source": [
    "## Target\n",
    "info abou target variable"
   ]
  },
  {
   "cell_type": "code",
   "execution_count": 8,
   "metadata": {
    "ExecuteTime": {
     "end_time": "2021-08-20T12:43:28.337745Z",
     "start_time": "2021-08-20T12:43:26.191632Z"
    }
   },
   "outputs": [
    {
     "data": {
      "text/plain": [
       "0.0000       9.269721e-02\n",
       "20.0000      1.155663e-03\n",
       "2.9307       1.146660e-03\n",
       "36.6000      1.095859e-03\n",
       "8.7921       1.077705e-03\n",
       "24.4000      1.069049e-03\n",
       "5.8614       1.054061e-03\n",
       "30.0000      1.031505e-03\n",
       "61.0000      1.030169e-03\n",
       "10.0000      1.024530e-03\n",
       "33.5500      9.902503e-04\n",
       "25.0000      9.566138e-04\n",
       "4.0000       9.489466e-04\n",
       "24.0000      9.334639e-04\n",
       "21.3500      9.288142e-04\n",
       "27.4500      9.273797e-04\n",
       "18.0000      8.712858e-04\n",
       "30.5000      8.386880e-04\n",
       "100.0000     8.142025e-04\n",
       "6.0000       8.126691e-04\n",
       "31.0000      7.854136e-04\n",
       "27.0000      7.731462e-04\n",
       "26.0000      7.715633e-04\n",
       "21.0000      7.688427e-04\n",
       "36.0000      7.671608e-04\n",
       "39.6500      7.605324e-04\n",
       "28.0000      7.594442e-04\n",
       "2.0000       7.591969e-04\n",
       "11.7228      7.487102e-04\n",
       "29.0000      7.414882e-04\n",
       "                 ...     \n",
       "3003.8000    4.946553e-08\n",
       "2976.9500    4.946553e-08\n",
       "57.2411      4.946553e-08\n",
       "436.1820     4.946553e-08\n",
       "24.4296      4.946553e-08\n",
       "91.6348      4.946553e-08\n",
       "28.2318      4.946553e-08\n",
       "60.0158      4.946553e-08\n",
       "435.1930     4.946553e-08\n",
       "436.8070     4.946553e-08\n",
       "72.7086      4.946553e-08\n",
       "13.6949      4.946553e-08\n",
       "13.6801      4.946553e-08\n",
       "73.1845      4.946553e-08\n",
       "2995.0500    4.946553e-08\n",
       "31.0494      4.946553e-08\n",
       "91.5723      4.946553e-08\n",
       "57.2589      4.946553e-08\n",
       "2988.2000    4.946553e-08\n",
       "20.4574      4.946553e-08\n",
       "35.9603      4.946553e-08\n",
       "435.4430     4.946553e-08\n",
       "46.2381      4.946553e-08\n",
       "2992.8000    4.946553e-08\n",
       "91.9902      4.946553e-08\n",
       "72.6357      4.946553e-08\n",
       "2977.7000    4.946553e-08\n",
       "55.4186      4.946553e-08\n",
       "2977.4500    4.946553e-08\n",
       "15.3563      4.946553e-08\n",
       "Name: meter_reading, Length: 1688175, dtype: float64"
      ]
     },
     "execution_count": 8,
     "metadata": {},
     "output_type": "execute_result"
    }
   ],
   "source": [
    "# Check the share\n",
    "df_train[target].value_counts(normalize=True)"
   ]
  },
  {
   "cell_type": "code",
   "execution_count": 9,
   "metadata": {
    "ExecuteTime": {
     "end_time": "2021-08-20T12:43:28.341756Z",
     "start_time": "2021-08-20T12:43:28.339487Z"
    }
   },
   "outputs": [],
   "source": [
    "# sns.countplot(x=target, data=df_train)\n",
    "# plt.xticks(rotation=90)"
   ]
  },
  {
   "cell_type": "code",
   "execution_count": 10,
   "metadata": {
    "ExecuteTime": {
     "end_time": "2021-08-20T12:43:28.346290Z",
     "start_time": "2021-08-20T12:43:28.343508Z"
    }
   },
   "outputs": [],
   "source": [
    "# df_train[target].plot()\n",
    "# plt.show()"
   ]
  },
  {
   "cell_type": "markdown",
   "metadata": {},
   "source": [
    "## Missing data\n",
    "share of missing values per column"
   ]
  },
  {
   "cell_type": "code",
   "execution_count": 11,
   "metadata": {
    "ExecuteTime": {
     "end_time": "2021-08-20T12:43:31.027930Z",
     "start_time": "2021-08-20T12:43:28.348020Z"
    }
   },
   "outputs": [
    {
     "name": "stdout",
     "output_type": "stream",
     "text": [
      "No missing data\n"
     ]
    }
   ],
   "source": [
    "share_of_missing_per_column(df_train)"
   ]
  },
  {
   "cell_type": "code",
   "execution_count": 12,
   "metadata": {
    "ExecuteTime": {
     "end_time": "2021-08-20T12:43:35.910405Z",
     "start_time": "2021-08-20T12:43:31.030169Z"
    }
   },
   "outputs": [
    {
     "name": "stdout",
     "output_type": "stream",
     "text": [
      "No missing data\n"
     ]
    }
   ],
   "source": [
    "share_of_missing_per_column(df_test)"
   ]
  },
  {
   "cell_type": "markdown",
   "metadata": {},
   "source": [
    "## Data types\n",
    "cstegorical/numerical columns identification"
   ]
  },
  {
   "cell_type": "code",
   "execution_count": 13,
   "metadata": {
    "ExecuteTime": {
     "end_time": "2021-08-20T12:43:35.920212Z",
     "start_time": "2021-08-20T12:43:35.913300Z"
    }
   },
   "outputs": [
    {
     "name": "stdout",
     "output_type": "stream",
     "text": [
      "Numerical columns 3, categorical columns 1\n"
     ]
    },
    {
     "data": {
      "text/plain": [
       "['timestamp']"
      ]
     },
     "execution_count": 13,
     "metadata": {},
     "output_type": "execute_result"
    }
   ],
   "source": [
    "cat_cols, num_cols = [], []\n",
    "\n",
    "for col in df_train.columns:\n",
    "    if df_train[col].dtype == object:\n",
    "        cat_cols.append(col)\n",
    "    else:\n",
    "        num_cols.append(col)\n",
    "print('Numerical columns {}, categorical columns {}'.format(\n",
    "    len(num_cols), len(cat_cols)))\n",
    "cat_cols"
   ]
  },
  {
   "cell_type": "code",
   "execution_count": 14,
   "metadata": {
    "ExecuteTime": {
     "end_time": "2021-08-20T12:43:35.931417Z",
     "start_time": "2021-08-20T12:43:35.921825Z"
    }
   },
   "outputs": [
    {
     "data": {
      "text/plain": [
       "int64      2\n",
       "object     1\n",
       "float64    1\n",
       "dtype: int64"
      ]
     },
     "execution_count": 14,
     "metadata": {},
     "output_type": "execute_result"
    }
   ],
   "source": [
    "df_train.dtypes.value_counts()"
   ]
  },
  {
   "cell_type": "code",
   "execution_count": 15,
   "metadata": {
    "ExecuteTime": {
     "end_time": "2021-08-20T12:43:35.938412Z",
     "start_time": "2021-08-20T12:43:35.933298Z"
    }
   },
   "outputs": [
    {
     "data": {
      "text/plain": [
       "int64     3\n",
       "object    1\n",
       "dtype: int64"
      ]
     },
     "execution_count": 15,
     "metadata": {},
     "output_type": "execute_result"
    }
   ],
   "source": [
    "df_test.dtypes.value_counts()"
   ]
  },
  {
   "cell_type": "markdown",
   "metadata": {},
   "source": [
    "## Staistic"
   ]
  },
  {
   "cell_type": "code",
   "execution_count": 16,
   "metadata": {
    "ExecuteTime": {
     "end_time": "2021-08-20T12:43:43.540053Z",
     "start_time": "2021-08-20T12:43:35.940397Z"
    }
   },
   "outputs": [
    {
     "data": {
      "text/html": [
       "<div>\n",
       "<style scoped>\n",
       "    .dataframe tbody tr th:only-of-type {\n",
       "        vertical-align: middle;\n",
       "    }\n",
       "\n",
       "    .dataframe tbody tr th {\n",
       "        vertical-align: top;\n",
       "    }\n",
       "\n",
       "    .dataframe thead th {\n",
       "        text-align: right;\n",
       "    }\n",
       "</style>\n",
       "<table border=\"1\" class=\"dataframe\">\n",
       "  <thead>\n",
       "    <tr style=\"text-align: right;\">\n",
       "      <th></th>\n",
       "      <th>building_id</th>\n",
       "      <th>meter</th>\n",
       "      <th>meter_reading</th>\n",
       "    </tr>\n",
       "  </thead>\n",
       "  <tbody>\n",
       "    <tr>\n",
       "      <th>count</th>\n",
       "      <td>2.021610e+07</td>\n",
       "      <td>2.021610e+07</td>\n",
       "      <td>2.021610e+07</td>\n",
       "    </tr>\n",
       "    <tr>\n",
       "      <th>mean</th>\n",
       "      <td>7.992780e+02</td>\n",
       "      <td>6.624412e-01</td>\n",
       "      <td>2.117121e+03</td>\n",
       "    </tr>\n",
       "    <tr>\n",
       "      <th>std</th>\n",
       "      <td>4.269133e+02</td>\n",
       "      <td>9.309921e-01</td>\n",
       "      <td>1.532356e+05</td>\n",
       "    </tr>\n",
       "    <tr>\n",
       "      <th>min</th>\n",
       "      <td>0.000000e+00</td>\n",
       "      <td>0.000000e+00</td>\n",
       "      <td>0.000000e+00</td>\n",
       "    </tr>\n",
       "    <tr>\n",
       "      <th>25%</th>\n",
       "      <td>3.930000e+02</td>\n",
       "      <td>0.000000e+00</td>\n",
       "      <td>1.830000e+01</td>\n",
       "    </tr>\n",
       "    <tr>\n",
       "      <th>50%</th>\n",
       "      <td>8.950000e+02</td>\n",
       "      <td>0.000000e+00</td>\n",
       "      <td>7.877500e+01</td>\n",
       "    </tr>\n",
       "    <tr>\n",
       "      <th>75%</th>\n",
       "      <td>1.179000e+03</td>\n",
       "      <td>1.000000e+00</td>\n",
       "      <td>2.679840e+02</td>\n",
       "    </tr>\n",
       "    <tr>\n",
       "      <th>max</th>\n",
       "      <td>1.448000e+03</td>\n",
       "      <td>3.000000e+00</td>\n",
       "      <td>2.190470e+07</td>\n",
       "    </tr>\n",
       "  </tbody>\n",
       "</table>\n",
       "</div>"
      ],
      "text/plain": [
       "        building_id         meter  meter_reading\n",
       "count  2.021610e+07  2.021610e+07   2.021610e+07\n",
       "mean   7.992780e+02  6.624412e-01   2.117121e+03\n",
       "std    4.269133e+02  9.309921e-01   1.532356e+05\n",
       "min    0.000000e+00  0.000000e+00   0.000000e+00\n",
       "25%    3.930000e+02  0.000000e+00   1.830000e+01\n",
       "50%    8.950000e+02  0.000000e+00   7.877500e+01\n",
       "75%    1.179000e+03  1.000000e+00   2.679840e+02\n",
       "max    1.448000e+03  3.000000e+00   2.190470e+07"
      ]
     },
     "execution_count": 16,
     "metadata": {},
     "output_type": "execute_result"
    }
   ],
   "source": [
    "df_train.describe()"
   ]
  },
  {
   "cell_type": "code",
   "execution_count": 17,
   "metadata": {
    "ExecuteTime": {
     "end_time": "2021-08-20T12:43:53.214916Z",
     "start_time": "2021-08-20T12:43:43.541840Z"
    }
   },
   "outputs": [
    {
     "data": {
      "text/html": [
       "<div>\n",
       "<style scoped>\n",
       "    .dataframe tbody tr th:only-of-type {\n",
       "        vertical-align: middle;\n",
       "    }\n",
       "\n",
       "    .dataframe tbody tr th {\n",
       "        vertical-align: top;\n",
       "    }\n",
       "\n",
       "    .dataframe thead th {\n",
       "        text-align: right;\n",
       "    }\n",
       "</style>\n",
       "<table border=\"1\" class=\"dataframe\">\n",
       "  <thead>\n",
       "    <tr style=\"text-align: right;\">\n",
       "      <th></th>\n",
       "      <th>row_id</th>\n",
       "      <th>building_id</th>\n",
       "      <th>meter</th>\n",
       "    </tr>\n",
       "  </thead>\n",
       "  <tbody>\n",
       "    <tr>\n",
       "      <th>count</th>\n",
       "      <td>4.169760e+07</td>\n",
       "      <td>4.169760e+07</td>\n",
       "      <td>4.169760e+07</td>\n",
       "    </tr>\n",
       "    <tr>\n",
       "      <th>mean</th>\n",
       "      <td>2.084880e+07</td>\n",
       "      <td>8.075824e+02</td>\n",
       "      <td>6.642857e-01</td>\n",
       "    </tr>\n",
       "    <tr>\n",
       "      <th>std</th>\n",
       "      <td>1.203706e+07</td>\n",
       "      <td>4.297680e+02</td>\n",
       "      <td>9.278067e-01</td>\n",
       "    </tr>\n",
       "    <tr>\n",
       "      <th>min</th>\n",
       "      <td>0.000000e+00</td>\n",
       "      <td>0.000000e+00</td>\n",
       "      <td>0.000000e+00</td>\n",
       "    </tr>\n",
       "    <tr>\n",
       "      <th>25%</th>\n",
       "      <td>1.042440e+07</td>\n",
       "      <td>4.047500e+02</td>\n",
       "      <td>0.000000e+00</td>\n",
       "    </tr>\n",
       "    <tr>\n",
       "      <th>50%</th>\n",
       "      <td>2.084880e+07</td>\n",
       "      <td>9.000000e+02</td>\n",
       "      <td>0.000000e+00</td>\n",
       "    </tr>\n",
       "    <tr>\n",
       "      <th>75%</th>\n",
       "      <td>3.127320e+07</td>\n",
       "      <td>1.194250e+03</td>\n",
       "      <td>1.000000e+00</td>\n",
       "    </tr>\n",
       "    <tr>\n",
       "      <th>max</th>\n",
       "      <td>4.169760e+07</td>\n",
       "      <td>1.448000e+03</td>\n",
       "      <td>3.000000e+00</td>\n",
       "    </tr>\n",
       "  </tbody>\n",
       "</table>\n",
       "</div>"
      ],
      "text/plain": [
       "             row_id   building_id         meter\n",
       "count  4.169760e+07  4.169760e+07  4.169760e+07\n",
       "mean   2.084880e+07  8.075824e+02  6.642857e-01\n",
       "std    1.203706e+07  4.297680e+02  9.278067e-01\n",
       "min    0.000000e+00  0.000000e+00  0.000000e+00\n",
       "25%    1.042440e+07  4.047500e+02  0.000000e+00\n",
       "50%    2.084880e+07  9.000000e+02  0.000000e+00\n",
       "75%    3.127320e+07  1.194250e+03  1.000000e+00\n",
       "max    4.169760e+07  1.448000e+03  3.000000e+00"
      ]
     },
     "execution_count": 17,
     "metadata": {},
     "output_type": "execute_result"
    }
   ],
   "source": [
    "df_test.describe()"
   ]
  },
  {
   "cell_type": "markdown",
   "metadata": {},
   "source": [
    "## Train VS Test \n",
    "numerical statistic per column"
   ]
  },
  {
   "cell_type": "code",
   "execution_count": 19,
   "metadata": {
    "ExecuteTime": {
     "end_time": "2021-08-20T12:44:23.691582Z",
     "start_time": "2021-08-20T12:44:23.680330Z"
    }
   },
   "outputs": [
    {
     "ename": "AttributeError",
     "evalue": "'Index' object has no attribute 'pop'",
     "output_type": "error",
     "traceback": [
      "\u001b[0;31m---------------------------------------------------------------------------\u001b[0m",
      "\u001b[0;31mAttributeError\u001b[0m                            Traceback (most recent call last)",
      "\u001b[0;32m<ipython-input-19-d6d6e06a043d>\u001b[0m in \u001b[0;36m<module>\u001b[0;34m()\u001b[0m\n\u001b[1;32m      1\u001b[0m \u001b[0mdata\u001b[0m\u001b[0;34m,\u001b[0m \u001b[0mlst\u001b[0m \u001b[0;34m=\u001b[0m \u001b[0;34m[\u001b[0m\u001b[0;34m]\u001b[0m\u001b[0;34m,\u001b[0m \u001b[0mdf_train\u001b[0m\u001b[0;34m.\u001b[0m\u001b[0mcolumns\u001b[0m\u001b[0;34m\u001b[0m\u001b[0m\n\u001b[0;32m----> 2\u001b[0;31m \u001b[0mlst\u001b[0m\u001b[0;34m.\u001b[0m\u001b[0mpop\u001b[0m\u001b[0;34m(\u001b[0m\u001b[0mlst\u001b[0m\u001b[0;34m.\u001b[0m\u001b[0mindex\u001b[0m\u001b[0;34m(\u001b[0m\u001b[0mtarget\u001b[0m\u001b[0;34m)\u001b[0m\u001b[0;34m)\u001b[0m\u001b[0;34m\u001b[0m\u001b[0m\n\u001b[0m\u001b[1;32m      3\u001b[0m \u001b[0;34m\u001b[0m\u001b[0m\n\u001b[1;32m      4\u001b[0m \u001b[0;32mfor\u001b[0m \u001b[0mcol\u001b[0m \u001b[0;32min\u001b[0m \u001b[0mlst\u001b[0m\u001b[0;34m:\u001b[0m\u001b[0;34m\u001b[0m\u001b[0m\n\u001b[1;32m      5\u001b[0m     \u001b[0;32mif\u001b[0m \u001b[0mcol\u001b[0m \u001b[0;32min\u001b[0m \u001b[0mnum_cols\u001b[0m\u001b[0;34m:\u001b[0m\u001b[0;34m\u001b[0m\u001b[0m\n",
      "\u001b[0;31mAttributeError\u001b[0m: 'Index' object has no attribute 'pop'"
     ]
    }
   ],
   "source": [
    "data, lst = [], df_train.columns\n",
    "lst.pop(lst.index(target))\n",
    "\n",
    "for col in lst:\n",
    "    if col in num_cols:\n",
    "        eql_median = False\n",
    "\n",
    "        if df_train[col].median() == df_test[col].median():\n",
    "            eql_median = True\n",
    "\n",
    "        data.append([\n",
    "            col, df_train[col].median(), df_test[col].median(), eql_median,\n",
    "            df_train[col].mean(), df_test[col].mean(), df_train[col].var(),\n",
    "            df_test[col].var()\n",
    "        ])\n",
    "pd.DataFrame.from_records(data,\n",
    "                          columns=[\n",
    "                              'Column',\n",
    "                              'Train_median',\n",
    "                              'Test_median',\n",
    "                              'Equal_medians',\n",
    "                              'Train_mean',\n",
    "                              'Test_mean',\n",
    "                              'Train_var',\n",
    "                              'Test_var',\n",
    "                          ]).head(5)"
   ]
  },
  {
   "cell_type": "markdown",
   "metadata": {},
   "source": [
    "## Correlation"
   ]
  },
  {
   "cell_type": "code",
   "execution_count": null,
   "metadata": {
    "ExecuteTime": {
     "end_time": "2021-08-20T12:43:53.476661Z",
     "start_time": "2021-08-20T12:42:53.750Z"
    }
   },
   "outputs": [],
   "source": [
    "cmap = sns.diverging_palette(h_neg=10, h_pos=240, as_cmap=True)\n",
    "\n",
    "# Create the correlation matrix\n",
    "corr = df_train.corr()\n",
    "\n",
    "# Draw the heatmap\n",
    "sns.heatmap(corr, cmap = cmap, center=0, linewidths=1, annot=True, fmt=\".2f\")\n",
    "plt.show()"
   ]
  },
  {
   "cell_type": "code",
   "execution_count": null,
   "metadata": {
    "ExecuteTime": {
     "end_time": "2021-08-20T12:43:53.477647Z",
     "start_time": "2021-08-20T12:42:53.751Z"
    }
   },
   "outputs": [],
   "source": [
    "# Generate a mask for the upper triangle \n",
    "mask = np.triu(np.ones_like(corr, dtype=bool))\n",
    "\n",
    "# Add the mask to the heatmap\n",
    "sns.heatmap(corr, cmap = cmap, mask=mask, center=0, linewidths=1, annot=True, fmt=\".2f\")\n",
    "plt.show()"
   ]
  },
  {
   "cell_type": "code",
   "execution_count": null,
   "metadata": {
    "ExecuteTime": {
     "end_time": "2021-08-20T12:43:53.478491Z",
     "start_time": "2021-08-20T12:42:53.752Z"
    }
   },
   "outputs": [],
   "source": [
    "# the strongest correlation is between: meter and building_id"
   ]
  },
  {
   "cell_type": "code",
   "execution_count": null,
   "metadata": {
    "ExecuteTime": {
     "end_time": "2021-08-20T12:43:53.479461Z",
     "start_time": "2021-08-20T12:42:53.754Z"
    }
   },
   "outputs": [],
   "source": [
    "# calculate Pearson's correlation\n",
    "# corr, _ = pearsonr(df_train['65'], df_train['66'])"
   ]
  },
  {
   "cell_type": "code",
   "execution_count": null,
   "metadata": {
    "ExecuteTime": {
     "end_time": "2021-08-20T12:43:53.480220Z",
     "start_time": "2021-08-20T12:42:53.755Z"
    }
   },
   "outputs": [],
   "source": [
    "# plt.figure(figsize=(8, 8))\n",
    "# sns.heatmap(df_train.corr(), square=True, annot=True)"
   ]
  },
  {
   "cell_type": "code",
   "execution_count": null,
   "metadata": {
    "ExecuteTime": {
     "end_time": "2021-08-20T12:43:53.481085Z",
     "start_time": "2021-08-20T12:42:53.757Z"
    }
   },
   "outputs": [],
   "source": [
    "abs(df_train.corr().unstack()).sort_values(\n",
    "    ascending=False).drop_duplicates()[1:10]"
   ]
  },
  {
   "cell_type": "markdown",
   "metadata": {},
   "source": [
    "## Columns"
   ]
  },
  {
   "cell_type": "code",
   "execution_count": null,
   "metadata": {
    "ExecuteTime": {
     "end_time": "2021-08-20T12:43:53.481892Z",
     "start_time": "2021-08-20T12:42:53.759Z"
    }
   },
   "outputs": [],
   "source": [
    "# column_visualizatin(df_train, df_train.columns[0], target, 100, True)"
   ]
  },
  {
   "cell_type": "code",
   "execution_count": null,
   "metadata": {
    "ExecuteTime": {
     "end_time": "2021-08-20T12:43:53.482584Z",
     "start_time": "2021-08-20T12:42:53.760Z"
    }
   },
   "outputs": [],
   "source": [
    "# column_visualizatin(df_train, df_train.columns[1], target, 100, True)"
   ]
  },
  {
   "cell_type": "code",
   "execution_count": null,
   "metadata": {
    "ExecuteTime": {
     "end_time": "2021-08-20T12:43:53.483624Z",
     "start_time": "2021-08-20T12:42:53.762Z"
    }
   },
   "outputs": [],
   "source": [
    "# column_visualizatin(df_train, df_train.columns[2], target, 100, True)"
   ]
  },
  {
   "cell_type": "code",
   "execution_count": null,
   "metadata": {
    "ExecuteTime": {
     "end_time": "2021-08-20T12:43:53.484499Z",
     "start_time": "2021-08-20T12:42:53.763Z"
    }
   },
   "outputs": [],
   "source": [
    "# column_visualizatin(df_train, df_train.columns[3], target, 100, True)"
   ]
  }
 ],
 "metadata": {
  "kernelspec": {
   "display_name": "Python 3",
   "language": "python",
   "name": "python3"
  },
  "language_info": {
   "codemirror_mode": {
    "name": "ipython",
    "version": 3
   },
   "file_extension": ".py",
   "mimetype": "text/x-python",
   "name": "python",
   "nbconvert_exporter": "python",
   "pygments_lexer": "ipython3",
   "version": "3.6.6"
  },
  "toc": {
   "base_numbering": 1,
   "nav_menu": {},
   "number_sections": true,
   "sideBar": true,
   "skip_h1_title": false,
   "title_cell": "Table of Contents",
   "title_sidebar": "Contents",
   "toc_cell": false,
   "toc_position": {
    "height": "calc(100% - 180px)",
    "left": "10px",
    "top": "150px",
    "width": "256px"
   },
   "toc_section_display": true,
   "toc_window_display": true
  }
 },
 "nbformat": 4,
 "nbformat_minor": 2
}
