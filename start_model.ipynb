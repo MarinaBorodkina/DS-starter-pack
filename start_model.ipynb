{
 "cells": [
  {
   "cell_type": "code",
   "execution_count": null,
   "metadata": {},
   "outputs": [],
   "source": [
    "'''\n",
    "This notebook demonstrates splitting the data in half and using each half\n",
    "to build a model which performs very well on the public LB with minimal feature engineering\n",
    "'''"
   ]
  },
  {
   "cell_type": "markdown",
   "metadata": {},
   "source": [
    "## Half model\n",
    "This notebook demonstrates splitting the data in half and using each half to build a model which performs very well on the public LB with minimal feature engineering."
   ]
  },
  {
   "cell_type": "code",
   "execution_count": 1,
   "metadata": {
    "ExecuteTime": {
     "end_time": "2019-11-15T10:20:38.847498Z",
     "start_time": "2019-11-15T10:20:37.636293Z"
    },
    "_cell_guid": "b1076dfc-b9ad-4769-8c92-a6c4dae69d19",
    "_uuid": "8f2839f25d086af736a60e9eeb907d3b93b6e0e5"
   },
   "outputs": [
    {
     "name": "stderr",
     "output_type": "stream",
     "text": [
      "D:\\Anaconda3\\lib\\site-packages\\sklearn\\utils\\deprecation.py:143: FutureWarning: The sklearn.neighbors.base module is  deprecated in version 0.22 and will be removed in version 0.24. The corresponding classes / functions should instead be imported from sklearn.neighbors. Anything that cannot be imported from sklearn.neighbors is now part of the private API.\n",
      "  warnings.warn(message, FutureWarning)\n",
      "D:\\Anaconda3\\lib\\site-packages\\sklearn\\utils\\deprecation.py:143: FutureWarning: The sklearn.ensemble.bagging module is  deprecated in version 0.22 and will be removed in version 0.24. The corresponding classes / functions should instead be imported from sklearn.ensemble. Anything that cannot be imported from sklearn.ensemble is now part of the private API.\n",
      "  warnings.warn(message, FutureWarning)\n",
      "D:\\Anaconda3\\lib\\site-packages\\sklearn\\utils\\deprecation.py:143: FutureWarning: The sklearn.ensemble.base module is  deprecated in version 0.22 and will be removed in version 0.24. The corresponding classes / functions should instead be imported from sklearn.ensemble. Anything that cannot be imported from sklearn.ensemble is now part of the private API.\n",
      "  warnings.warn(message, FutureWarning)\n",
      "D:\\Anaconda3\\lib\\site-packages\\sklearn\\utils\\deprecation.py:143: FutureWarning: The sklearn.ensemble.forest module is  deprecated in version 0.22 and will be removed in version 0.24. The corresponding classes / functions should instead be imported from sklearn.ensemble. Anything that cannot be imported from sklearn.ensemble is now part of the private API.\n",
      "  warnings.warn(message, FutureWarning)\n",
      "D:\\Anaconda3\\lib\\site-packages\\sklearn\\utils\\deprecation.py:143: FutureWarning: The sklearn.utils.testing module is  deprecated in version 0.22 and will be removed in version 0.24. The corresponding classes / functions should instead be imported from sklearn.utils. Anything that cannot be imported from sklearn.utils is now part of the private API.\n",
      "  warnings.warn(message, FutureWarning)\n",
      "D:\\Anaconda3\\lib\\site-packages\\sklearn\\utils\\deprecation.py:143: FutureWarning: The sklearn.metrics.classification module is  deprecated in version 0.22 and will be removed in version 0.24. The corresponding classes / functions should instead be imported from sklearn.metrics. Anything that cannot be imported from sklearn.metrics is now part of the private API.\n",
      "  warnings.warn(message, FutureWarning)\n"
     ]
    }
   ],
   "source": [
    "# Import libraries\n",
    "import numpy as np\n",
    "import pandas as pd\n",
    "import math\n",
    "import timeit\n",
    "import gc\n",
    "import os\n",
    "import random\n",
    "\n",
    "# Visualiazation\n",
    "from seaborn import countplot\n",
    "import matplotlib.pyplot as plt\n",
    "import seaborn\n",
    "\n",
    "# Preprocessing\n",
    "from sklearn.preprocessing import MinMaxScaler, MaxAbsScaler\n",
    "from sklearn.preprocessing import StandardScaler, RobustScaler\n",
    "from sklearn.preprocessing import QuantileTransformer, PowerTransformer\n",
    "from sklearn.preprocessing import Normalizer\n",
    "from sklearn.preprocessing import LabelBinarizer\n",
    "from sklearn.preprocessing import LabelEncoder\n",
    "from imblearn.over_sampling import SMOTE\n",
    "from sklearn.impute import SimpleImputer\n",
    "\n",
    "from imblearn.pipeline import Pipeline\n",
    "\n",
    "# Metrics\n",
    "from sklearn.metrics import roc_auc_score\n",
    "from sklearn.metrics import f1_score, precision_score\n",
    "from sklearn.metrics import recall_score, mean_squared_error\n",
    "\n",
    "# Models and multiclasses support\n",
    "import lightgbm as lgb\n",
    "from xgboost import XGBClassifier\n",
    "from sklearn.multioutput import MultiOutputRegressor, MultiOutputClassifier\n",
    "\n",
    "# Model tuning\n",
    "from sklearn.model_selection import GridSearchCV\n",
    "\n",
    "from pandas.api.types import is_datetime64_any_dtype as is_datetime\n",
    "from pandas.api.types import is_categorical_dtype\n",
    "\n",
    "# Import and suppress warnings\n",
    "import warnings\n",
    "warnings.filterwarnings('ignore')"
   ]
  },
  {
   "cell_type": "code",
   "execution_count": 2,
   "metadata": {
    "ExecuteTime": {
     "end_time": "2019-11-15T10:20:38.854484Z",
     "start_time": "2019-11-15T10:20:38.850506Z"
    }
   },
   "outputs": [],
   "source": [
    "# Settings\n",
    "path_data = 'input_files/TEST/'\n",
    "path_train = path_data + 'train.csv'\n",
    "path_test = path_data + 'test.csv'\n",
    "\n",
    "myfavouritenumber = 0\n",
    "seed = myfavouritenumber\n",
    "random.seed(seed)\n",
    "\n",
    "# Is it regression/binary classification/multi class classification?\n",
    "task = 1  # regression\n",
    "task = 2  # binary classification\n",
    "task = 3  # multiclass classification\n",
    "\n",
    "# Number of classes for multiclass\n",
    "num_class = 4"
   ]
  },
  {
   "cell_type": "code",
   "execution_count": 3,
   "metadata": {
    "ExecuteTime": {
     "end_time": "2019-11-15T10:20:38.860482Z",
     "start_time": "2019-11-15T10:20:38.856841Z"
    }
   },
   "outputs": [],
   "source": [
    "task = 3  # multi class classification"
   ]
  },
  {
   "cell_type": "code",
   "execution_count": 4,
   "metadata": {
    "ExecuteTime": {
     "end_time": "2019-11-15T10:20:38.874720Z",
     "start_time": "2019-11-15T10:20:38.862796Z"
    }
   },
   "outputs": [],
   "source": [
    "def multiclass_roc_auc_score(y_test, y_pred, average=\"macro\"):\n",
    "    ''' Roc auc calculation for multiclass task '''\n",
    "\n",
    "    lb = LabelBinarizer()\n",
    "    lb.fit(y_test)\n",
    "    y_test = lb.transform(y_test)\n",
    "    y_pred = lb.transform(y_pred)\n",
    "    return roc_auc_score(y_test, y_pred, average=average)\n",
    "\n",
    "def seconds_to_str(time_taken: float) -> str:\n",
    "    '''\n",
    "    Returns hours, minutes, seconds from the time taken\n",
    "\n",
    "    Parameters:\n",
    "        :params time_taken: time taken\n",
    "\n",
    "    Returns:\n",
    "        :returns: hours, minutes, seconds from the time taken\n",
    "    '''\n",
    "\n",
    "    hours, rest = divmod(time_taken, 3600)\n",
    "    minutes, seconds = divmod(rest, 60)\n",
    "    time_taken_str = str(math.trunc(hours)) + ':' + str(\n",
    "        math.trunc(minutes)) + ':' + str(round(seconds, 2))\n",
    "\n",
    "    return time_taken_str\n",
    "\n",
    "\n",
    "def reduce_mem_usage(df, use_float16=False):\n",
    "    ''' Memory optimization\n",
    "    Original code from https://www.kaggle.com/gemartin/load-data-reduce-memory-usage by @gemartin\n",
    "    Modified to support timestamp type, categorical type\n",
    "    Modified to add option to use float16\n",
    "    \n",
    "    Iterate through all the columns of a dataframe and modify the data type to reduce memory usage '''\n",
    "\n",
    "    start_mem = df.memory_usage().sum() / 1024**2\n",
    "    print(\"Memory usage of dataframe is {:.2f} MB\".format(start_mem))\n",
    "\n",
    "    for col in df.columns:\n",
    "        if is_datetime(df[col]) or is_categorical_dtype(df[col]):\n",
    "            continue\n",
    "        col_type = df[col].dtype\n",
    "\n",
    "        if col_type != object:\n",
    "            c_min = df[col].min()\n",
    "            c_max = df[col].max()\n",
    "            if str(col_type)[:3] == \"int\":\n",
    "                if c_min > np.iinfo(np.int8).min and c_max < np.iinfo(\n",
    "                        np.int8).max:\n",
    "                    df[col] = df[col].astype(np.int8)\n",
    "                elif c_min > np.iinfo(np.int16).min and c_max < np.iinfo(\n",
    "                        np.int16).max:\n",
    "                    df[col] = df[col].astype(np.int16)\n",
    "                elif c_min > np.iinfo(np.int32).min and c_max < np.iinfo(\n",
    "                        np.int32).max:\n",
    "                    df[col] = df[col].astype(np.int32)\n",
    "                elif c_min > np.iinfo(np.int64).min and c_max < np.iinfo(\n",
    "                        np.int64).max:\n",
    "                    df[col] = df[col].astype(np.int64)\n",
    "            else:\n",
    "                if use_float16 and c_min > np.finfo(\n",
    "                        np.float16).min and c_max < np.finfo(np.float16).max:\n",
    "                    df[col] = df[col].astype(np.float16)\n",
    "                elif c_min > np.finfo(np.float32).min and c_max < np.finfo(\n",
    "                        np.float32).max:\n",
    "                    df[col] = df[col].astype(np.float32)\n",
    "                else:\n",
    "                    df[col] = df[col].astype(np.float64)\n",
    "        else:\n",
    "            df[col] = df[col].astype(\"category\")\n",
    "\n",
    "    end_mem = df.memory_usage().sum() / 1024**2\n",
    "    print(\"Memory usage after optimization is: {:.2f} MB\".format(end_mem))\n",
    "    print(\"Decreased by {:.1f}%\".format(100 * (start_mem - end_mem) /\n",
    "                                        start_mem))\n",
    "\n",
    "    return df"
   ]
  },
  {
   "cell_type": "markdown",
   "metadata": {},
   "source": [
    "## Reading train and test data\n",
    "Reading train data"
   ]
  },
  {
   "cell_type": "code",
   "execution_count": 5,
   "metadata": {
    "ExecuteTime": {
     "end_time": "2019-11-15T10:20:39.028308Z",
     "start_time": "2019-11-15T10:20:38.876932Z"
    }
   },
   "outputs": [
    {
     "name": "stdout",
     "output_type": "stream",
     "text": [
      "Train: (8677, 67)\n",
      "Test: (2999, 67)\n"
     ]
    }
   ],
   "source": [
    "# Upload train and test sets\n",
    "df_train = pd.read_csv(path_train).reset_index()\n",
    "df_test = pd.read_csv(path_test).reset_index()\n",
    "\n",
    "# Set target and id columns\n",
    "target = '66'\n",
    "row_id = 'index'\n",
    "\n",
    "# Check the shape\n",
    "print('Train:', df_train.shape)\n",
    "print('Test:', df_test.shape)"
   ]
  },
  {
   "cell_type": "code",
   "execution_count": 6,
   "metadata": {
    "ExecuteTime": {
     "end_time": "2019-11-15T10:20:39.071551Z",
     "start_time": "2019-11-15T10:20:39.030307Z"
    }
   },
   "outputs": [
    {
     "name": "stdout",
     "output_type": "stream",
     "text": [
      "Train: (5577, 67)\n",
      "Test: (2999, 67)\n"
     ]
    }
   ],
   "source": [
    "##### TEST #####\n",
    "\n",
    "# Set for learning\n",
    "df_train = df_train.iloc[3000:-100, :]\n",
    "\n",
    "# Set for model/parameter tuning\n",
    "df_train_out = df_train.iloc[-100:, :]\n",
    "\n",
    "if task == 2:\n",
    "    df_train.loc[df_train[target] == 2, target] = 0\n",
    "    df_train.loc[df_train[target] == 3, target] = 1\n",
    "    df_test.loc[df_test[target] == 2, target] = 0\n",
    "    df_test.loc[df_test[target] == 3, target] = 1\n",
    "\n",
    "if task == 1:\n",
    "    y_test = df_test[target]\n",
    "else:\n",
    "    y_test = df_test.iloc[:, 66:67]\n",
    "\n",
    "print('Train:', df_train.shape)\n",
    "print('Test:', df_test.shape)\n",
    "##### TEST #####"
   ]
  },
  {
   "cell_type": "markdown",
   "metadata": {},
   "source": [
    "## Preprocessing"
   ]
  },
  {
   "cell_type": "code",
   "execution_count": 7,
   "metadata": {
    "ExecuteTime": {
     "end_time": "2019-11-15T10:20:39.166133Z",
     "start_time": "2019-11-15T10:20:39.073604Z"
    }
   },
   "outputs": [
    {
     "name": "stdout",
     "output_type": "stream",
     "text": [
      "Train + Test: (8576, 67)\n"
     ]
    },
    {
     "data": {
      "text/html": [
       "<div>\n",
       "<style scoped>\n",
       "    .dataframe tbody tr th:only-of-type {\n",
       "        vertical-align: middle;\n",
       "    }\n",
       "\n",
       "    .dataframe tbody tr th {\n",
       "        vertical-align: top;\n",
       "    }\n",
       "\n",
       "    .dataframe thead th {\n",
       "        text-align: right;\n",
       "    }\n",
       "</style>\n",
       "<table border=\"1\" class=\"dataframe\">\n",
       "  <thead>\n",
       "    <tr style=\"text-align: right;\">\n",
       "      <th></th>\n",
       "      <th>index</th>\n",
       "      <th>1</th>\n",
       "      <th>2</th>\n",
       "      <th>3</th>\n",
       "      <th>4</th>\n",
       "      <th>5</th>\n",
       "      <th>6</th>\n",
       "      <th>7</th>\n",
       "      <th>8</th>\n",
       "      <th>9</th>\n",
       "      <th>...</th>\n",
       "      <th>57</th>\n",
       "      <th>58</th>\n",
       "      <th>59</th>\n",
       "      <th>60</th>\n",
       "      <th>61</th>\n",
       "      <th>62</th>\n",
       "      <th>63</th>\n",
       "      <th>64</th>\n",
       "      <th>65</th>\n",
       "      <th>66</th>\n",
       "    </tr>\n",
       "  </thead>\n",
       "  <tbody>\n",
       "    <tr>\n",
       "      <th>3000</th>\n",
       "      <td>3000</td>\n",
       "      <td>20</td>\n",
       "      <td>15</td>\n",
       "      <td>-5</td>\n",
       "      <td>-12</td>\n",
       "      <td>21.0</td>\n",
       "      <td>27.0</td>\n",
       "      <td>-2.0</td>\n",
       "      <td>1.0</td>\n",
       "      <td>-18</td>\n",
       "      <td>...</td>\n",
       "      <td>-10</td>\n",
       "      <td>9</td>\n",
       "      <td>2</td>\n",
       "      <td>12</td>\n",
       "      <td>-8</td>\n",
       "      <td>-21</td>\n",
       "      <td>-10</td>\n",
       "      <td>-62</td>\n",
       "      <td>D</td>\n",
       "      <td>2</td>\n",
       "    </tr>\n",
       "    <tr>\n",
       "      <th>3001</th>\n",
       "      <td>3001</td>\n",
       "      <td>37</td>\n",
       "      <td>-6</td>\n",
       "      <td>-1</td>\n",
       "      <td>-6</td>\n",
       "      <td>-17.0</td>\n",
       "      <td>-5.0</td>\n",
       "      <td>44.0</td>\n",
       "      <td>-5.0</td>\n",
       "      <td>5</td>\n",
       "      <td>...</td>\n",
       "      <td>2</td>\n",
       "      <td>2</td>\n",
       "      <td>0</td>\n",
       "      <td>3</td>\n",
       "      <td>9</td>\n",
       "      <td>-5</td>\n",
       "      <td>62</td>\n",
       "      <td>26</td>\n",
       "      <td>C</td>\n",
       "      <td>0</td>\n",
       "    </tr>\n",
       "    <tr>\n",
       "      <th>3002</th>\n",
       "      <td>3002</td>\n",
       "      <td>49</td>\n",
       "      <td>-4</td>\n",
       "      <td>-4</td>\n",
       "      <td>-6</td>\n",
       "      <td>10.0</td>\n",
       "      <td>-6.0</td>\n",
       "      <td>-41.0</td>\n",
       "      <td>11.0</td>\n",
       "      <td>-16</td>\n",
       "      <td>...</td>\n",
       "      <td>6</td>\n",
       "      <td>-4</td>\n",
       "      <td>0</td>\n",
       "      <td>5</td>\n",
       "      <td>19</td>\n",
       "      <td>16</td>\n",
       "      <td>38</td>\n",
       "      <td>1</td>\n",
       "      <td>C</td>\n",
       "      <td>0</td>\n",
       "    </tr>\n",
       "    <tr>\n",
       "      <th>3003</th>\n",
       "      <td>3003</td>\n",
       "      <td>36</td>\n",
       "      <td>4</td>\n",
       "      <td>4</td>\n",
       "      <td>14</td>\n",
       "      <td>-4.0</td>\n",
       "      <td>-14.0</td>\n",
       "      <td>47.0</td>\n",
       "      <td>2.0</td>\n",
       "      <td>17</td>\n",
       "      <td>...</td>\n",
       "      <td>7</td>\n",
       "      <td>-2</td>\n",
       "      <td>1</td>\n",
       "      <td>5</td>\n",
       "      <td>-3</td>\n",
       "      <td>2</td>\n",
       "      <td>-50</td>\n",
       "      <td>-29</td>\n",
       "      <td>C</td>\n",
       "      <td>0</td>\n",
       "    </tr>\n",
       "    <tr>\n",
       "      <th>3004</th>\n",
       "      <td>3004</td>\n",
       "      <td>2</td>\n",
       "      <td>0</td>\n",
       "      <td>-1</td>\n",
       "      <td>0</td>\n",
       "      <td>-10.0</td>\n",
       "      <td>-5.0</td>\n",
       "      <td>2.0</td>\n",
       "      <td>5.0</td>\n",
       "      <td>0</td>\n",
       "      <td>...</td>\n",
       "      <td>-7</td>\n",
       "      <td>2</td>\n",
       "      <td>-2</td>\n",
       "      <td>-1</td>\n",
       "      <td>20</td>\n",
       "      <td>-13</td>\n",
       "      <td>1</td>\n",
       "      <td>-14</td>\n",
       "      <td>A</td>\n",
       "      <td>1</td>\n",
       "    </tr>\n",
       "  </tbody>\n",
       "</table>\n",
       "<p>5 rows × 67 columns</p>\n",
       "</div>"
      ],
      "text/plain": [
       "      index   1   2  3   4     5     6     7     8   9  ...  57  58  59  60  \\\n",
       "3000   3000  20  15 -5 -12  21.0  27.0  -2.0   1.0 -18  ... -10   9   2  12   \n",
       "3001   3001  37  -6 -1  -6 -17.0  -5.0  44.0  -5.0   5  ...   2   2   0   3   \n",
       "3002   3002  49  -4 -4  -6  10.0  -6.0 -41.0  11.0 -16  ...   6  -4   0   5   \n",
       "3003   3003  36   4  4  14  -4.0 -14.0  47.0   2.0  17  ...   7  -2   1   5   \n",
       "3004   3004   2   0 -1   0 -10.0  -5.0   2.0   5.0   0  ...  -7   2  -2  -1   \n",
       "\n",
       "      61  62  63  64  65  66  \n",
       "3000  -8 -21 -10 -62   D   2  \n",
       "3001   9  -5  62  26   C   0  \n",
       "3002  19  16  38   1   C   0  \n",
       "3003  -3   2 -50 -29   C   0  \n",
       "3004  20 -13   1 -14   A   1  \n",
       "\n",
       "[5 rows x 67 columns]"
      ]
     },
     "execution_count": 7,
     "metadata": {},
     "output_type": "execute_result"
    }
   ],
   "source": [
    "# Concatenate train and test sets before preprocessing\n",
    "df = pd.concat([df_train, df_test])\n",
    "print('Train + Test:', df.shape)\n",
    "df.head(5)"
   ]
  },
  {
   "cell_type": "code",
   "execution_count": 8,
   "metadata": {
    "ExecuteTime": {
     "end_time": "2019-11-15T10:20:39.171223Z",
     "start_time": "2019-11-15T10:20:39.168386Z"
    }
   },
   "outputs": [],
   "source": [
    "column_lst = [x for x in list(df.columns) if x not in [row_id, target, '65']]"
   ]
  },
  {
   "cell_type": "code",
   "execution_count": 9,
   "metadata": {
    "ExecuteTime": {
     "end_time": "2019-11-15T10:20:39.493875Z",
     "start_time": "2019-11-15T10:20:39.173278Z"
    },
    "_cell_guid": "79c7e3d0-c299-4dcb-8224-4455121ee9b0",
    "_uuid": "d629ff2d2480ee46fbb7e2d37f6b5fab8052498a"
   },
   "outputs": [],
   "source": [
    "def average_imputation(X, column_name):\n",
    "    imputation = X.groupby(['timestamp'])[column_name].mean()\n",
    "\n",
    "    X.loc[X[column_name].isnull(), column_name] = X[X[column_name].isnull()][[\n",
    "        column_name\n",
    "    ]].apply(lambda x: imputation[X['timestamp'][x.index]].values)\n",
    "    del imputation\n",
    "    return df\n",
    "\n",
    "\n",
    "# MISSING\n",
    "# Fill in missing values\n",
    "# df = df.groupby('cat_column').apply(lambda group: group.interpolate(limit_direction='both'))\n",
    "\n",
    "# df['Color'].fillna('missing', inplace=True)\n",
    "df[column_lst] = df[column_lst].fillna(df[column_lst].mean())\n",
    "\n",
    "# filling missing with average inputatioin\n",
    "# df = average_imputation(df, ['num_column3'])\n",
    "\n",
    "# CATEGORICAL\n",
    "# Encoding categorical variables\n",
    "#le = LabelEncoder()\n",
    "#df['Color'] = le.fit_transform(df['Color'])\n",
    "\n",
    "# NEW FEATURES (TIMESTAMP)\n",
    "# convert timestamp to datetime and sorting\n",
    "# df['Timestamp'] = pd.to_datetime(df['Timestamp'], format=\"%d.%m.%Y %H:%M:%S\")\n",
    "# df['Timestamp'] = pd.to_datetime(df['Timestamp'], format=\"%d.%m.%Y\")\n",
    "# df.sort_values('Timestamp', inplace = True)\n",
    "# df.reset_index(drop=True)\n",
    "# gc.collect()\n",
    "\n",
    "# New features from timestamp\n",
    "# df['hour'] = df['Timestamp'].dt.hour\n",
    "# df['weekday'] = df['Timestamp'].dt.weekday\n",
    "# df['month'] = df['Timestamp'].dt.month\n",
    "\n",
    "# SCALING\n",
    "df[column_lst] = Normalizer().fit_transform(df[column_lst])\n",
    "#df['Price1'] = np.log1p(df['Price1'])\n",
    "#df['Price2'] = np.log1p(df['Price2'])\n",
    "#df['Year'] = df['Year']-1900\n",
    "\n",
    "# OUTLIERS\n",
    "# df[column_lst] = RobustScaler().fit_transform(df[column_lst])"
   ]
  },
  {
   "cell_type": "code",
   "execution_count": 10,
   "metadata": {
    "ExecuteTime": {
     "end_time": "2019-11-15T10:20:39.511703Z",
     "start_time": "2019-11-15T10:20:39.496061Z"
    }
   },
   "outputs": [
    {
     "name": "stdout",
     "output_type": "stream",
     "text": [
      "Train: (5577, 67)\n",
      "Test: (2999, 67)\n"
     ]
    }
   ],
   "source": [
    "# Split train and test sets after preprocessing\n",
    "df_train = df[:df_train.shape[0]]\n",
    "df_test = df[df_train.shape[0]:]\n",
    "\n",
    "# Check the shape\n",
    "print('Train:', df_train.shape)\n",
    "print('Test:', df_test.shape)"
   ]
  },
  {
   "cell_type": "code",
   "execution_count": 11,
   "metadata": {
    "ExecuteTime": {
     "end_time": "2019-11-15T10:20:39.567291Z",
     "start_time": "2019-11-15T10:20:39.513868Z"
    }
   },
   "outputs": [
    {
     "data": {
      "text/plain": [
       "40"
      ]
     },
     "execution_count": 11,
     "metadata": {},
     "output_type": "execute_result"
    }
   ],
   "source": [
    "del df\n",
    "gc.collect()"
   ]
  },
  {
   "cell_type": "code",
   "execution_count": 12,
   "metadata": {
    "ExecuteTime": {
     "end_time": "2019-11-15T10:20:39.590384Z",
     "start_time": "2019-11-15T10:20:39.569130Z"
    }
   },
   "outputs": [
    {
     "data": {
      "text/html": [
       "<div>\n",
       "<style scoped>\n",
       "    .dataframe tbody tr th:only-of-type {\n",
       "        vertical-align: middle;\n",
       "    }\n",
       "\n",
       "    .dataframe tbody tr th {\n",
       "        vertical-align: top;\n",
       "    }\n",
       "\n",
       "    .dataframe thead th {\n",
       "        text-align: right;\n",
       "    }\n",
       "</style>\n",
       "<table border=\"1\" class=\"dataframe\">\n",
       "  <thead>\n",
       "    <tr style=\"text-align: right;\">\n",
       "      <th></th>\n",
       "      <th>index</th>\n",
       "      <th>1</th>\n",
       "      <th>2</th>\n",
       "      <th>3</th>\n",
       "      <th>4</th>\n",
       "      <th>5</th>\n",
       "      <th>6</th>\n",
       "      <th>7</th>\n",
       "      <th>8</th>\n",
       "      <th>9</th>\n",
       "      <th>...</th>\n",
       "      <th>57</th>\n",
       "      <th>58</th>\n",
       "      <th>59</th>\n",
       "      <th>60</th>\n",
       "      <th>61</th>\n",
       "      <th>62</th>\n",
       "      <th>63</th>\n",
       "      <th>64</th>\n",
       "      <th>65</th>\n",
       "      <th>66</th>\n",
       "    </tr>\n",
       "  </thead>\n",
       "  <tbody>\n",
       "    <tr>\n",
       "      <th>3000</th>\n",
       "      <td>3000</td>\n",
       "      <td>0.124744</td>\n",
       "      <td>0.093558</td>\n",
       "      <td>-0.031186</td>\n",
       "      <td>-0.074847</td>\n",
       "      <td>0.130982</td>\n",
       "      <td>0.168405</td>\n",
       "      <td>-0.012474</td>\n",
       "      <td>0.006237</td>\n",
       "      <td>-0.112270</td>\n",
       "      <td>...</td>\n",
       "      <td>-0.062372</td>\n",
       "      <td>0.056135</td>\n",
       "      <td>0.012474</td>\n",
       "      <td>0.074847</td>\n",
       "      <td>-0.049898</td>\n",
       "      <td>-0.130982</td>\n",
       "      <td>-0.062372</td>\n",
       "      <td>-0.386708</td>\n",
       "      <td>D</td>\n",
       "      <td>2</td>\n",
       "    </tr>\n",
       "    <tr>\n",
       "      <th>3001</th>\n",
       "      <td>3001</td>\n",
       "      <td>0.177702</td>\n",
       "      <td>-0.028817</td>\n",
       "      <td>-0.004803</td>\n",
       "      <td>-0.028817</td>\n",
       "      <td>-0.081647</td>\n",
       "      <td>-0.024014</td>\n",
       "      <td>0.211321</td>\n",
       "      <td>-0.024014</td>\n",
       "      <td>0.024014</td>\n",
       "      <td>...</td>\n",
       "      <td>0.009606</td>\n",
       "      <td>0.009606</td>\n",
       "      <td>0.000000</td>\n",
       "      <td>0.014408</td>\n",
       "      <td>0.043225</td>\n",
       "      <td>-0.024014</td>\n",
       "      <td>0.297771</td>\n",
       "      <td>0.124872</td>\n",
       "      <td>C</td>\n",
       "      <td>0</td>\n",
       "    </tr>\n",
       "  </tbody>\n",
       "</table>\n",
       "<p>2 rows × 67 columns</p>\n",
       "</div>"
      ],
      "text/plain": [
       "      index         1         2         3         4         5         6  \\\n",
       "3000   3000  0.124744  0.093558 -0.031186 -0.074847  0.130982  0.168405   \n",
       "3001   3001  0.177702 -0.028817 -0.004803 -0.028817 -0.081647 -0.024014   \n",
       "\n",
       "             7         8         9  ...        57        58        59  \\\n",
       "3000 -0.012474  0.006237 -0.112270  ... -0.062372  0.056135  0.012474   \n",
       "3001  0.211321 -0.024014  0.024014  ...  0.009606  0.009606  0.000000   \n",
       "\n",
       "            60        61        62        63        64  65  66  \n",
       "3000  0.074847 -0.049898 -0.130982 -0.062372 -0.386708   D   2  \n",
       "3001  0.014408  0.043225 -0.024014  0.297771  0.124872   C   0  \n",
       "\n",
       "[2 rows x 67 columns]"
      ]
     },
     "execution_count": 12,
     "metadata": {},
     "output_type": "execute_result"
    }
   ],
   "source": [
    "df_train.head(2)"
   ]
  },
  {
   "cell_type": "code",
   "execution_count": 13,
   "metadata": {
    "ExecuteTime": {
     "end_time": "2019-11-15T10:20:39.610127Z",
     "start_time": "2019-11-15T10:20:39.592181Z"
    }
   },
   "outputs": [
    {
     "data": {
      "text/html": [
       "<div>\n",
       "<style scoped>\n",
       "    .dataframe tbody tr th:only-of-type {\n",
       "        vertical-align: middle;\n",
       "    }\n",
       "\n",
       "    .dataframe tbody tr th {\n",
       "        vertical-align: top;\n",
       "    }\n",
       "\n",
       "    .dataframe thead th {\n",
       "        text-align: right;\n",
       "    }\n",
       "</style>\n",
       "<table border=\"1\" class=\"dataframe\">\n",
       "  <thead>\n",
       "    <tr style=\"text-align: right;\">\n",
       "      <th></th>\n",
       "      <th>index</th>\n",
       "      <th>1</th>\n",
       "      <th>2</th>\n",
       "      <th>3</th>\n",
       "      <th>4</th>\n",
       "      <th>5</th>\n",
       "      <th>6</th>\n",
       "      <th>7</th>\n",
       "      <th>8</th>\n",
       "      <th>9</th>\n",
       "      <th>...</th>\n",
       "      <th>57</th>\n",
       "      <th>58</th>\n",
       "      <th>59</th>\n",
       "      <th>60</th>\n",
       "      <th>61</th>\n",
       "      <th>62</th>\n",
       "      <th>63</th>\n",
       "      <th>64</th>\n",
       "      <th>65</th>\n",
       "      <th>66</th>\n",
       "    </tr>\n",
       "  </thead>\n",
       "  <tbody>\n",
       "    <tr>\n",
       "      <th>0</th>\n",
       "      <td>0</td>\n",
       "      <td>0.006617</td>\n",
       "      <td>0.006617</td>\n",
       "      <td>-0.013233</td>\n",
       "      <td>-0.019850</td>\n",
       "      <td>-0.006617</td>\n",
       "      <td>-0.019850</td>\n",
       "      <td>0.258052</td>\n",
       "      <td>0.066167</td>\n",
       "      <td>0.000000</td>\n",
       "      <td>...</td>\n",
       "      <td>-0.046317</td>\n",
       "      <td>-0.013233</td>\n",
       "      <td>0.006617</td>\n",
       "      <td>0.0397</td>\n",
       "      <td>-0.013233</td>\n",
       "      <td>0.026467</td>\n",
       "      <td>0.145568</td>\n",
       "      <td>0.013233</td>\n",
       "      <td>C</td>\n",
       "      <td>0</td>\n",
       "    </tr>\n",
       "    <tr>\n",
       "      <th>1</th>\n",
       "      <td>1</td>\n",
       "      <td>0.007431</td>\n",
       "      <td>-0.029725</td>\n",
       "      <td>-0.014863</td>\n",
       "      <td>-0.044588</td>\n",
       "      <td>-0.148626</td>\n",
       "      <td>0.148626</td>\n",
       "      <td>-0.007431</td>\n",
       "      <td>-0.022294</td>\n",
       "      <td>0.148626</td>\n",
       "      <td>...</td>\n",
       "      <td>0.104038</td>\n",
       "      <td>0.014863</td>\n",
       "      <td>-0.014863</td>\n",
       "      <td>0.0000</td>\n",
       "      <td>0.170920</td>\n",
       "      <td>0.156057</td>\n",
       "      <td>-0.022294</td>\n",
       "      <td>0.163489</td>\n",
       "      <td>B</td>\n",
       "      <td>1</td>\n",
       "    </tr>\n",
       "  </tbody>\n",
       "</table>\n",
       "<p>2 rows × 67 columns</p>\n",
       "</div>"
      ],
      "text/plain": [
       "   index         1         2         3         4         5         6  \\\n",
       "0      0  0.006617  0.006617 -0.013233 -0.019850 -0.006617 -0.019850   \n",
       "1      1  0.007431 -0.029725 -0.014863 -0.044588 -0.148626  0.148626   \n",
       "\n",
       "          7         8         9  ...        57        58        59      60  \\\n",
       "0  0.258052  0.066167  0.000000  ... -0.046317 -0.013233  0.006617  0.0397   \n",
       "1 -0.007431 -0.022294  0.148626  ...  0.104038  0.014863 -0.014863  0.0000   \n",
       "\n",
       "         61        62        63        64  65  66  \n",
       "0 -0.013233  0.026467  0.145568  0.013233   C   0  \n",
       "1  0.170920  0.156057 -0.022294  0.163489   B   1  \n",
       "\n",
       "[2 rows x 67 columns]"
      ]
     },
     "execution_count": 13,
     "metadata": {},
     "output_type": "execute_result"
    }
   ],
   "source": [
    "df_test.head(2)"
   ]
  },
  {
   "cell_type": "markdown",
   "metadata": {},
   "source": [
    "## Preparing data\n",
    "Simple preparation"
   ]
  },
  {
   "cell_type": "code",
   "execution_count": 14,
   "metadata": {
    "ExecuteTime": {
     "end_time": "2019-11-15T10:20:39.615625Z",
     "start_time": "2019-11-15T10:20:39.611783Z"
    }
   },
   "outputs": [],
   "source": [
    "def prepare_data(X, test=False):\n",
    "    '''\n",
    "    Preparing final dataset with all features.\n",
    "    '''\n",
    "\n",
    "    # Drop redundant columns\n",
    "    drop_features = ['65']\n",
    "    X.drop(drop_features, axis=1, inplace=True)\n",
    "\n",
    "    if test:\n",
    "        row_ids = X[row_id]\n",
    "        X.drop(row_id, axis=1, inplace=True)\n",
    "        X.drop(target, axis=1, inplace=True)\n",
    "        return X, row_ids\n",
    "    else:\n",
    "        # y = np.log1p(X[target])\n",
    "        # y = X[target]\n",
    "\n",
    "        if task == 1:  # regression\n",
    "            y = np.log1p(X[target])\n",
    "        else:  # classification\n",
    "            y = X.iloc[:, 65:66]\n",
    "        X.drop(row_id, axis=1, inplace=True)\n",
    "        X.drop(target, axis=1, inplace=True)\n",
    "        return X, y"
   ]
  },
  {
   "cell_type": "code",
   "execution_count": 15,
   "metadata": {
    "ExecuteTime": {
     "end_time": "2019-11-15T10:20:39.793088Z",
     "start_time": "2019-11-15T10:20:39.617252Z"
    },
    "_kg_hide-output": true
   },
   "outputs": [
    {
     "data": {
      "text/html": [
       "<div>\n",
       "<style scoped>\n",
       "    .dataframe tbody tr th:only-of-type {\n",
       "        vertical-align: middle;\n",
       "    }\n",
       "\n",
       "    .dataframe tbody tr th {\n",
       "        vertical-align: top;\n",
       "    }\n",
       "\n",
       "    .dataframe thead th {\n",
       "        text-align: right;\n",
       "    }\n",
       "</style>\n",
       "<table border=\"1\" class=\"dataframe\">\n",
       "  <thead>\n",
       "    <tr style=\"text-align: right;\">\n",
       "      <th></th>\n",
       "      <th>1</th>\n",
       "      <th>2</th>\n",
       "      <th>3</th>\n",
       "      <th>4</th>\n",
       "      <th>5</th>\n",
       "      <th>6</th>\n",
       "      <th>7</th>\n",
       "      <th>8</th>\n",
       "      <th>9</th>\n",
       "      <th>10</th>\n",
       "      <th>...</th>\n",
       "      <th>55</th>\n",
       "      <th>56</th>\n",
       "      <th>57</th>\n",
       "      <th>58</th>\n",
       "      <th>59</th>\n",
       "      <th>60</th>\n",
       "      <th>61</th>\n",
       "      <th>62</th>\n",
       "      <th>63</th>\n",
       "      <th>64</th>\n",
       "    </tr>\n",
       "  </thead>\n",
       "  <tbody>\n",
       "    <tr>\n",
       "      <th>3000</th>\n",
       "      <td>0.124744</td>\n",
       "      <td>0.093558</td>\n",
       "      <td>-0.031186</td>\n",
       "      <td>-0.074847</td>\n",
       "      <td>0.130982</td>\n",
       "      <td>0.168405</td>\n",
       "      <td>-0.012474</td>\n",
       "      <td>0.006237</td>\n",
       "      <td>-0.112270</td>\n",
       "      <td>0.018712</td>\n",
       "      <td>...</td>\n",
       "      <td>0.006237</td>\n",
       "      <td>-0.024949</td>\n",
       "      <td>-0.062372</td>\n",
       "      <td>0.056135</td>\n",
       "      <td>0.012474</td>\n",
       "      <td>0.074847</td>\n",
       "      <td>-0.049898</td>\n",
       "      <td>-0.130982</td>\n",
       "      <td>-0.062372</td>\n",
       "      <td>-0.386708</td>\n",
       "    </tr>\n",
       "    <tr>\n",
       "      <th>3001</th>\n",
       "      <td>0.177702</td>\n",
       "      <td>-0.028817</td>\n",
       "      <td>-0.004803</td>\n",
       "      <td>-0.028817</td>\n",
       "      <td>-0.081647</td>\n",
       "      <td>-0.024014</td>\n",
       "      <td>0.211321</td>\n",
       "      <td>-0.024014</td>\n",
       "      <td>0.024014</td>\n",
       "      <td>0.028817</td>\n",
       "      <td>...</td>\n",
       "      <td>-0.273757</td>\n",
       "      <td>0.100858</td>\n",
       "      <td>0.009606</td>\n",
       "      <td>0.009606</td>\n",
       "      <td>0.000000</td>\n",
       "      <td>0.014408</td>\n",
       "      <td>0.043225</td>\n",
       "      <td>-0.024014</td>\n",
       "      <td>0.297771</td>\n",
       "      <td>0.124872</td>\n",
       "    </tr>\n",
       "  </tbody>\n",
       "</table>\n",
       "<p>2 rows × 64 columns</p>\n",
       "</div>"
      ],
      "text/plain": [
       "             1         2         3         4         5         6         7  \\\n",
       "3000  0.124744  0.093558 -0.031186 -0.074847  0.130982  0.168405 -0.012474   \n",
       "3001  0.177702 -0.028817 -0.004803 -0.028817 -0.081647 -0.024014  0.211321   \n",
       "\n",
       "             8         9        10  ...        55        56        57  \\\n",
       "3000  0.006237 -0.112270  0.018712  ...  0.006237 -0.024949 -0.062372   \n",
       "3001 -0.024014  0.024014  0.028817  ... -0.273757  0.100858  0.009606   \n",
       "\n",
       "            58        59        60        61        62        63        64  \n",
       "3000  0.056135  0.012474  0.074847 -0.049898 -0.130982 -0.062372 -0.386708  \n",
       "3001  0.009606  0.000000  0.014408  0.043225 -0.024014  0.297771  0.124872  \n",
       "\n",
       "[2 rows x 64 columns]"
      ]
     },
     "execution_count": 15,
     "metadata": {},
     "output_type": "execute_result"
    }
   ],
   "source": [
    "# df_train = reduce_mem_usage(df_train)\n",
    "X_train, y_train = prepare_data(df_train)\n",
    "\n",
    "del df_train\n",
    "gc.collect()\n",
    "\n",
    "X_train.head(2)"
   ]
  },
  {
   "cell_type": "code",
   "execution_count": 16,
   "metadata": {
    "ExecuteTime": {
     "end_time": "2019-11-15T10:20:39.955108Z",
     "start_time": "2019-11-15T10:20:39.795001Z"
    }
   },
   "outputs": [
    {
     "data": {
      "text/html": [
       "<div>\n",
       "<style scoped>\n",
       "    .dataframe tbody tr th:only-of-type {\n",
       "        vertical-align: middle;\n",
       "    }\n",
       "\n",
       "    .dataframe tbody tr th {\n",
       "        vertical-align: top;\n",
       "    }\n",
       "\n",
       "    .dataframe thead th {\n",
       "        text-align: right;\n",
       "    }\n",
       "</style>\n",
       "<table border=\"1\" class=\"dataframe\">\n",
       "  <thead>\n",
       "    <tr style=\"text-align: right;\">\n",
       "      <th></th>\n",
       "      <th>1</th>\n",
       "      <th>2</th>\n",
       "      <th>3</th>\n",
       "      <th>4</th>\n",
       "      <th>5</th>\n",
       "      <th>6</th>\n",
       "      <th>7</th>\n",
       "      <th>8</th>\n",
       "      <th>9</th>\n",
       "      <th>10</th>\n",
       "      <th>...</th>\n",
       "      <th>55</th>\n",
       "      <th>56</th>\n",
       "      <th>57</th>\n",
       "      <th>58</th>\n",
       "      <th>59</th>\n",
       "      <th>60</th>\n",
       "      <th>61</th>\n",
       "      <th>62</th>\n",
       "      <th>63</th>\n",
       "      <th>64</th>\n",
       "    </tr>\n",
       "  </thead>\n",
       "  <tbody>\n",
       "    <tr>\n",
       "      <th>0</th>\n",
       "      <td>0.006617</td>\n",
       "      <td>0.006617</td>\n",
       "      <td>-0.013233</td>\n",
       "      <td>-0.019850</td>\n",
       "      <td>-0.006617</td>\n",
       "      <td>-0.019850</td>\n",
       "      <td>0.258052</td>\n",
       "      <td>0.066167</td>\n",
       "      <td>0.000000</td>\n",
       "      <td>-0.006617</td>\n",
       "      <td>...</td>\n",
       "      <td>0.357303</td>\n",
       "      <td>0.112484</td>\n",
       "      <td>-0.046317</td>\n",
       "      <td>-0.013233</td>\n",
       "      <td>0.006617</td>\n",
       "      <td>0.0397</td>\n",
       "      <td>-0.013233</td>\n",
       "      <td>0.026467</td>\n",
       "      <td>0.145568</td>\n",
       "      <td>0.013233</td>\n",
       "    </tr>\n",
       "    <tr>\n",
       "      <th>1</th>\n",
       "      <td>0.007431</td>\n",
       "      <td>-0.029725</td>\n",
       "      <td>-0.014863</td>\n",
       "      <td>-0.044588</td>\n",
       "      <td>-0.148626</td>\n",
       "      <td>0.148626</td>\n",
       "      <td>-0.007431</td>\n",
       "      <td>-0.022294</td>\n",
       "      <td>0.148626</td>\n",
       "      <td>0.022294</td>\n",
       "      <td>...</td>\n",
       "      <td>-0.044588</td>\n",
       "      <td>-0.052019</td>\n",
       "      <td>0.104038</td>\n",
       "      <td>0.014863</td>\n",
       "      <td>-0.014863</td>\n",
       "      <td>0.0000</td>\n",
       "      <td>0.170920</td>\n",
       "      <td>0.156057</td>\n",
       "      <td>-0.022294</td>\n",
       "      <td>0.163489</td>\n",
       "    </tr>\n",
       "  </tbody>\n",
       "</table>\n",
       "<p>2 rows × 64 columns</p>\n",
       "</div>"
      ],
      "text/plain": [
       "          1         2         3         4         5         6         7  \\\n",
       "0  0.006617  0.006617 -0.013233 -0.019850 -0.006617 -0.019850  0.258052   \n",
       "1  0.007431 -0.029725 -0.014863 -0.044588 -0.148626  0.148626 -0.007431   \n",
       "\n",
       "          8         9        10  ...        55        56        57        58  \\\n",
       "0  0.066167  0.000000 -0.006617  ...  0.357303  0.112484 -0.046317 -0.013233   \n",
       "1 -0.022294  0.148626  0.022294  ... -0.044588 -0.052019  0.104038  0.014863   \n",
       "\n",
       "         59      60        61        62        63        64  \n",
       "0  0.006617  0.0397 -0.013233  0.026467  0.145568  0.013233  \n",
       "1 -0.014863  0.0000  0.170920  0.156057 -0.022294  0.163489  \n",
       "\n",
       "[2 rows x 64 columns]"
      ]
     },
     "execution_count": 16,
     "metadata": {},
     "output_type": "execute_result"
    }
   ],
   "source": [
    "# df_test = reduce_mem_usage(df_test)\n",
    "X_test, row_ids = prepare_data(df_test, test=True)\n",
    "\n",
    "del df_test\n",
    "gc.collect()\n",
    "\n",
    "X_test.head(2)"
   ]
  },
  {
   "cell_type": "markdown",
   "metadata": {},
   "source": [
    "## Model: Two-fold LightGBM Model split half-and-half\n",
    "The data is split into two based on time. Each half is used as the training data for a model."
   ]
  },
  {
   "cell_type": "code",
   "execution_count": 17,
   "metadata": {
    "ExecuteTime": {
     "end_time": "2019-11-15T10:20:39.959031Z",
     "start_time": "2019-11-15T10:20:39.956946Z"
    }
   },
   "outputs": [],
   "source": [
    "# from sklearn.model_selection import train_test_split\n",
    "# Split train data into two parts\n",
    "# X_half_1, X_half_2 = train_test_split(X_train, test_size=0.5, random_state=myfavouritenumber)\n",
    "# y_half_1, y_half_2 = train_test_split(y_train, test_size=0.5, random_state=myfavouritenumber)"
   ]
  },
  {
   "cell_type": "code",
   "execution_count": 18,
   "metadata": {
    "ExecuteTime": {
     "end_time": "2019-11-15T10:20:39.975124Z",
     "start_time": "2019-11-15T10:20:39.960771Z"
    }
   },
   "outputs": [
    {
     "name": "stdout",
     "output_type": "stream",
     "text": [
      "multiclass\n"
     ]
    }
   ],
   "source": [
    "# Split train set per two halfs\n",
    "X_half_1 = X_train[:int(X_train.shape[0] / 2)]\n",
    "X_half_2 = X_train[int(X_train.shape[0] / 2):]\n",
    "\n",
    "y_half_1 = y_train[:int(X_train.shape[0] / 2)]\n",
    "y_half_2 = y_train[int(X_train.shape[0] / 2):]\n",
    "\n",
    "#categorical_features = ['weekday', 'month', 'Color']\n",
    "categorical_features = []\n",
    "\n",
    "d_half_1 = lgb.Dataset(X_half_1,\n",
    "                       label=y_half_1,\n",
    "                       categorical_feature=categorical_features,\n",
    "                       free_raw_data=False)\n",
    "d_half_2 = lgb.Dataset(X_half_2,\n",
    "                       label=y_half_2,\n",
    "                       categorical_feature=categorical_features,\n",
    "                       free_raw_data=False)\n",
    "watchlist_1 = [d_half_1, d_half_2]\n",
    "watchlist_2 = [d_half_2, d_half_1]\n",
    "\n",
    "if task == 1:\n",
    "    # regression task\n",
    "    params = {\n",
    "        'objective': 'regression',\n",
    "        'boosting': 'gbdt',\n",
    "        'num_leaves': 2**6,\n",
    "        'learning_rate': 0.05,\n",
    "        'feature_fraction': 0.85,\n",
    "        'reg_lambda': 2,\n",
    "        'metric': 'rmse'\n",
    "    }\n",
    "\n",
    "if task == 2:\n",
    "    # binary classication task\n",
    "    params = {\n",
    "        'objective': 'binary',\n",
    "        'boosting_type': 'gbdt',\n",
    "        'num_leaves': 2**6,\n",
    "        'learning_rate': 0.05,\n",
    "        'feature_fraction': 0.85,\n",
    "        'reg_lambda': 2,\n",
    "        'metric': 'auc'\n",
    "    }\n",
    "\n",
    "if task == 3:\n",
    "    # multi class task\n",
    "    params = {\n",
    "        'objective': 'multiclass',\n",
    "        'boosting_type': 'gbdt',\n",
    "        'num_leaves': 2**6,\n",
    "        'learning_rate': 0.05,\n",
    "        'feature_fraction': 0.85,\n",
    "        'reg_lambda': 2,\n",
    "        'num_class': num_class,\n",
    "        'metric': 'multi_error'\n",
    "    }\n",
    "\n",
    "print(params['objective'])"
   ]
  },
  {
   "cell_type": "code",
   "execution_count": 19,
   "metadata": {
    "ExecuteTime": {
     "end_time": "2019-11-15T10:24:16.983286Z",
     "start_time": "2019-11-15T10:20:39.976934Z"
    }
   },
   "outputs": [
    {
     "name": "stdout",
     "output_type": "stream",
     "text": [
      "Building model with first half and validating on second half:\n",
      "Training until validation scores don't improve for 200 rounds\n",
      "[200]\ttraining's multi_error: 0\tvalid_1's multi_error: 0.0588024\n",
      "[400]\ttraining's multi_error: 0\tvalid_1's multi_error: 0.0523485\n",
      "Did not meet early stopping. Best iteration is:\n",
      "[93]\ttraining's multi_error: 0\tvalid_1's multi_error: 0.0692004\n",
      "________Time:  0:0:9.38\n",
      "Building model with second half and validating on first half:\n",
      "Training until validation scores don't improve for 200 rounds\n",
      "[200]\ttraining's multi_error: 0\tvalid_1's multi_error: 0.0570301\n",
      "[400]\ttraining's multi_error: 0\tvalid_1's multi_error: 0.0512912\n",
      "Did not meet early stopping. Best iteration is:\n",
      "[134]\ttraining's multi_error: 0\tvalid_1's multi_error: 0.0638451\n",
      "________Time:  0:0:9.22\n"
     ]
    }
   ],
   "source": [
    "start = timeit.default_timer()\n",
    "print('Building model with first half and validating on second half:')\n",
    "model_half_1 = lgb.train(params,\n",
    "                         train_set=d_half_1,\n",
    "                         num_boost_round=500,\n",
    "                         valid_sets=watchlist_1,\n",
    "                         verbose_eval=200,\n",
    "                         early_stopping_rounds=200)\n",
    "print('________Time: ', seconds_to_str(timeit.default_timer() - start))\n",
    "\n",
    "start = timeit.default_timer()\n",
    "print('Building model with second half and validating on first half:')\n",
    "model_half_2 = lgb.train(params,\n",
    "                         train_set=d_half_2,\n",
    "                         num_boost_round=500,\n",
    "                         valid_sets=watchlist_2,\n",
    "                         verbose_eval=200,\n",
    "                         early_stopping_rounds=200)\n",
    "print('________Time: ', seconds_to_str(timeit.default_timer() - start))"
   ]
  },
  {
   "cell_type": "code",
   "execution_count": 20,
   "metadata": {
    "ExecuteTime": {
     "end_time": "2019-11-15T10:24:17.279730Z",
     "start_time": "2019-11-15T10:24:17.069970Z"
    }
   },
   "outputs": [],
   "source": [
    "# Averaging predictions from the two half train data models.\n",
    "if task == 1:  # regression or binary\n",
    "    y_pred_lgb = np.expm1(\n",
    "        model_half_1.predict(X_test,\n",
    "                             num_iteration=model_half_1.best_iteration)) / 2\n",
    "    y_pred_lgb += np.expm1(\n",
    "        model_half_2.predict(X_test,\n",
    "                             num_iteration=model_half_2.best_iteration)) / 2\n",
    "else:  # classification\n",
    "    y_pred_lgb = model_half_1.predict(\n",
    "        X_test, num_iteration=model_half_1.best_iteration) / 2\n",
    "    y_pred_lgb += model_half_2.predict(\n",
    "        X_test, num_iteration=model_half_2.best_iteration) / 2"
   ]
  },
  {
   "cell_type": "code",
   "execution_count": 21,
   "metadata": {
    "ExecuteTime": {
     "end_time": "2019-11-15T10:24:17.370615Z",
     "start_time": "2019-11-15T10:24:17.282737Z"
    }
   },
   "outputs": [],
   "source": [
    "if task == 3:  # multi class task\n",
    "    # Output position with highest probability\n",
    "    y_pred_lgb = (pd.DataFrame(y_pred_lgb).idxmax(axis=1))"
   ]
  },
  {
   "cell_type": "code",
   "execution_count": 22,
   "metadata": {
    "ExecuteTime": {
     "end_time": "2019-11-15T10:24:17.474721Z",
     "start_time": "2019-11-15T10:24:17.373203Z"
    }
   },
   "outputs": [
    {
     "name": "stdout",
     "output_type": "stream",
     "text": [
      "roc_auc: 0.9635880997244171\n"
     ]
    }
   ],
   "source": [
    "if task == 1:  # regression\n",
    "    print('mse:', mean_squared_error(y_test, y_pred_lgb))\n",
    "if task == 2:  # binary classification\n",
    "    print('roc_auc:', roc_auc_score(y_test, y_pred_lgb))\n",
    "if task == 3:  # multi class task\n",
    "    print('roc_auc:', multiclass_roc_auc_score(y_test, y_pred_lgb))"
   ]
  },
  {
   "cell_type": "markdown",
   "metadata": {},
   "source": [
    "## Model: XGBoost"
   ]
  },
  {
   "cell_type": "code",
   "execution_count": 23,
   "metadata": {
    "ExecuteTime": {
     "end_time": "2019-11-15T10:24:27.417517Z",
     "start_time": "2019-11-15T10:24:17.476726Z"
    }
   },
   "outputs": [
    {
     "name": "stdout",
     "output_type": "stream",
     "text": [
      "________Time:  0:0:15.11\n"
     ]
    }
   ],
   "source": [
    "start = timeit.default_timer()\n",
    "# отмасштабируем признаки\n",
    "scaler = Normalizer()\n",
    "# исбавимся от выбросов после масщтабирования, если они будет в тестовой выборке\n",
    "outlier = RobustScaler()\n",
    "# для уменьшения несбаллансированности классов воспользуемся техникой Oversampling\n",
    "# smote = SMOTE(random_state=myfavouritenumber)\n",
    "# пустые значения заменим на среднее ззначение признака\n",
    "imputer = SimpleImputer(missing_values=np.nan, strategy='mean')\n",
    "\n",
    "if task == 1:  # regression\n",
    "    model = XGBClassifier(random_state=myfavouritenumber)\n",
    "\n",
    "if task == 2:  # binary classification\n",
    "    model = XGBClassifier(random_state=myfavouritenumber)\n",
    "\n",
    "if task == 3:  # multi class task\n",
    "    model = MultiOutputClassifier(\n",
    "        XGBClassifier(random_state=myfavouritenumber), n_jobs=-1)\n",
    "\n",
    "# Create pipeline\n",
    "pipeline = Pipeline([\n",
    "    ('imputer', imputer),\n",
    "    ('scaler', scaler),\n",
    "    ('outlier', outlier),\n",
    "    #('smote', smote),\n",
    "    ('XGBoost', model)\n",
    "])\n",
    "\n",
    "# Fit model and predict\n",
    "xgb = pipeline.fit(X_train, y_train)\n",
    "\n",
    "if task == 1:  # regression\n",
    "    y_pred_xgb = np.expm1(xgb.predict(X_test))\n",
    "else:  # classification\n",
    "    y_pred_xgb = xgb.predict(X_test)\n",
    "print('________Time: ', seconds_to_str(timeit.default_timer() - start))"
   ]
  },
  {
   "cell_type": "code",
   "execution_count": 24,
   "metadata": {
    "ExecuteTime": {
     "end_time": "2019-11-15T10:24:27.430380Z",
     "start_time": "2019-11-15T10:24:27.420072Z"
    }
   },
   "outputs": [
    {
     "name": "stdout",
     "output_type": "stream",
     "text": [
      "roc_auc: 0.9606759777880594\n"
     ]
    }
   ],
   "source": [
    "if task == 1:  # regression\n",
    "    print('mse:', mean_squared_error(y_test, y_pred_xgb))\n",
    "if task == 2:  # binary classification\n",
    "    print('roc_auc:', roc_auc_score(y_test, y_pred_xgb))\n",
    "if task == 3:  # multi class task\n",
    "    print('roc_auc:', multiclass_roc_auc_score(y_test, y_pred_xgb))"
   ]
  },
  {
   "cell_type": "markdown",
   "metadata": {},
   "source": [
    "## Submission\n",
    "Preparing final file for submission."
   ]
  },
  {
   "cell_type": "code",
   "execution_count": 25,
   "metadata": {
    "ExecuteTime": {
     "end_time": "2019-11-15T10:24:27.437612Z",
     "start_time": "2019-11-15T10:24:27.432376Z"
    }
   },
   "outputs": [],
   "source": [
    "y_pred = y_pred_lgb\n",
    "submission = pd.DataFrame({row_id: row_ids, target: y_pred})\n",
    "# submission = pd.DataFrame({row_id: row_ids, target: np.clip(pred, 0, a_max=None)})\n",
    "# submission.to_csv('test_submission.csv', index=False, float_format='%.4f')"
   ]
  },
  {
   "cell_type": "markdown",
   "metadata": {},
   "source": [
    "## Prediction review"
   ]
  },
  {
   "cell_type": "code",
   "execution_count": 26,
   "metadata": {
    "ExecuteTime": {
     "end_time": "2019-11-15T10:24:27.446121Z",
     "start_time": "2019-11-15T10:24:27.439819Z"
    }
   },
   "outputs": [
    {
     "name": "stdout",
     "output_type": "stream",
     "text": [
      "y_test:     [0 1 0 0 0 0 3 2 0 3 0 3 2 1 1 2 2 0 0 1 0 2 3 0 1 2 2 2 0 2]\n",
      "y_pred_lgb: [0 1 0 0 0 0 3 2 0 3 0 3 2 1 1 2 2 0 0 1 0 2 3 0 1 2 2 2 0 2]\n",
      "y_pred_xgb: [0 1 0 0 0 0 3 2 0 3 0 3 1 1 1 2 2 0 2 1 0 2 3 0 1 2 2 2 0 2]\n"
     ]
    }
   ],
   "source": [
    "if task == 1 or task == 2:  # regression\n",
    "    print('y_test:    ', 1. * (np.array(y_test[:30])))\n",
    "    print('y_pred_lgb:', np.round(y_pred_lgb)[:30])\n",
    "    print('y_pred_xgb:', 1. * np.round(np.array(y_pred_xgb))[:30].ravel())\n",
    "else:\n",
    "    print('y_test:    ', np.array(y_test[target][:30]))\n",
    "    print('y_pred_lgb:', np.array(y_pred_lgb)[:30])\n",
    "    print('y_pred_xgb:', np.array(y_pred_xgb)[:30].ravel())"
   ]
  },
  {
   "cell_type": "code",
   "execution_count": 27,
   "metadata": {
    "ExecuteTime": {
     "end_time": "2019-11-15T10:24:27.452774Z",
     "start_time": "2019-11-15T10:24:27.448178Z"
    }
   },
   "outputs": [
    {
     "data": {
      "text/plain": [
       "count    2999.000000\n",
       "mean        1.514171\n",
       "std         1.104172\n",
       "min         0.000000\n",
       "25%         1.000000\n",
       "50%         2.000000\n",
       "75%         2.000000\n",
       "max         3.000000\n",
       "dtype: float64"
      ]
     },
     "execution_count": 27,
     "metadata": {},
     "output_type": "execute_result"
    }
   ],
   "source": [
    "y_pred.describe()"
   ]
  },
  {
   "cell_type": "code",
   "execution_count": 28,
   "metadata": {
    "ExecuteTime": {
     "end_time": "2019-11-15T10:24:28.146929Z",
     "start_time": "2019-11-15T10:24:27.454785Z"
    }
   },
   "outputs": [
    {
     "data": {
      "image/png": "[encoded data removed]",
      "text/plain": [
       "<Figure size 576x576 with 1 Axes>"
      ]
     },
     "metadata": {
      "needs_background": "light"
     },
     "output_type": "display_data"
    }
   ],
   "source": [
    "import matplotlib.pyplot as plt\n",
    "\n",
    "\n",
    "def plot_feature_importance(model_, model_columns_):\n",
    "    importance_df = pd.DataFrame(model_.feature_importance(),\n",
    "                                 index=model_columns_,\n",
    "                                 columns=['importance'\n",
    "                                          ]).sort_values('importance')\n",
    "    fig, ax = plt.subplots(figsize=(8, 8))\n",
    "    importance_df.plot.barh(ax=ax)\n",
    "    fig.show()\n",
    "\n",
    "\n",
    "plot_feature_importance(model_half_1, list(X_test.columns))"
   ]
  },
  {
   "cell_type": "code",
   "execution_count": 29,
   "metadata": {
    "ExecuteTime": {
     "end_time": "2019-11-15T10:24:28.346167Z",
     "start_time": "2019-11-15T10:24:28.149178Z"
    }
   },
   "outputs": [],
   "source": [
    "# import matplotlib as mpl\n",
    "# submission[target].plot()\n",
    "# plt.show()"
   ]
  },
  {
   "cell_type": "code",
   "execution_count": 30,
   "metadata": {
    "ExecuteTime": {
     "end_time": "2019-11-15T10:24:28.522689Z",
     "start_time": "2019-11-15T10:20:37.850Z"
    }
   },
   "outputs": [
    {
     "data": {
      "text/plain": [
       "10116"
      ]
     },
     "execution_count": 30,
     "metadata": {},
     "output_type": "execute_result"
    }
   ],
   "source": [
    "del X_train, y_train, X_test, y_test, X_half_1, X_half_2, y_half_1, y_half_2, d_half_1, d_half_2, watchlist_1, watchlist_2, model_half_1, model_half_2\n",
    "gc.collect()"
   ]
  }
 ],
 "metadata": {
  "kernelspec": {
   "display_name": "Python 3",
   "language": "python",
   "name": "python3"
  },
  "language_info": {
   "codemirror_mode": {
    "name": "ipython",
    "version": 3
   },
   "file_extension": ".py",
   "mimetype": "text/x-python",
   "name": "python",
   "nbconvert_exporter": "python",
   "pygments_lexer": "ipython3",
   "version": "3.7.3"
  },
  "toc": {
   "base_numbering": 1,
   "nav_menu": {},
   "number_sections": true,
   "sideBar": true,
   "skip_h1_title": false,
   "title_cell": "Table of Contents",
   "title_sidebar": "Contents",
   "toc_cell": false,
   "toc_position": {
    "height": "calc(100% - 180px)",
    "left": "10px",
    "top": "150px",
    "width": "256px"
   },
   "toc_section_display": true,
   "toc_window_display": true
  }
 },
 "nbformat": 4,
 "nbformat_minor": 1
}
